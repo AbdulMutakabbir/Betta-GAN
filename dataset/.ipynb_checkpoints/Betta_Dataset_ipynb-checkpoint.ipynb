{
 "cells": [
  {
   "cell_type": "code",
   "execution_count": 1,
   "id": "2290363b",
   "metadata": {},
   "outputs": [],
   "source": [
    "import os\n",
    "import cv2\n",
    "from torch.utils.data import Dataset, DataLoader"
   ]
  },
  {
   "cell_type": "code",
   "execution_count": 2,
   "id": "6b355ff9",
   "metadata": {},
   "outputs": [],
   "source": [
    "class BettaDataset(Dataset):\n",
    "    def __init__(self):\n",
    "        self.images_dir = \"betta\"\n",
    "        image_list = os.listdir(self.images_dir)\n",
    "        print(\"Dataset contains \", len(image_list), \" betta images.\")\n",
    "        self.data = []\n",
    "        for image_name in image_list:\n",
    "            image_label = \"betta\"\n",
    "            image_path = self.images_dir + os.sep + image_name\n",
    "            self.data.append([image_path, image_label])\n",
    "        self.class_map = {\"betta\" : 0}\n",
    "        \n",
    "    def __len__(self):\n",
    "        return len(self.data)\n",
    "    \n",
    "    def __getitem__(self, idex):\n",
    "        image_path, class_name = self.data[idex]\n",
    "        image = cv2.imread(image_path)\n",
    "        class_id = self.class_map[class_name]\n",
    "        image_tensor = torch.from_numpy(image) / 255\n",
    "        image_tensor = image_tensor.permute(2, 0, 1)\n",
    "        return image_tensor, class_id"
   ]
  },
  {
   "cell_type": "code",
   "execution_count": 3,
   "id": "317a1560",
   "metadata": {},
   "outputs": [
    {
     "name": "stdout",
     "output_type": "stream",
     "text": [
      "Dataset contains  1356  betta images.\n"
     ]
    }
   ],
   "source": [
    "# Load the dataset\n",
    "dataset = BettaDataset()\n",
    "data_loader = DataLoader(dataset, batch_size=4, shuffle=True)"
   ]
  },
  {
   "cell_type": "code",
   "execution_count": null,
   "id": "7cb4c4b0",
   "metadata": {},
   "outputs": [],
   "source": []
  }
 ],
 "metadata": {
  "kernelspec": {
   "display_name": "Python 3",
   "language": "python",
   "name": "python3"
  },
  "language_info": {
   "codemirror_mode": {
    "name": "ipython",
    "version": 3
   },
   "file_extension": ".py",
   "mimetype": "text/x-python",
   "name": "python",
   "nbconvert_exporter": "python",
   "pygments_lexer": "ipython3",
   "version": "3.8.8"
  }
 },
 "nbformat": 4,
 "nbformat_minor": 5
}
