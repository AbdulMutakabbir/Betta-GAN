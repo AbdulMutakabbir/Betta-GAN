{
 "cells": [
  {
   "cell_type": "code",
   "execution_count": 5,
   "id": "2290363b",
   "metadata": {},
   "outputs": [],
   "source": [
    "import os\n",
    "import cv2\n",
    "import torch\n",
    "from torch.utils.data import Dataset, DataLoader"
   ]
  },
  {
   "cell_type": "code",
   "execution_count": 6,
   "id": "6b355ff9",
   "metadata": {},
   "outputs": [],
   "source": [
    "class BettaDataset(Dataset):\n",
    "    def __init__(self):\n",
    "        self.images_dir = \"betta\"\n",
    "        image_list = os.listdir(self.images_dir)\n",
    "        print(\"Dataset contains \", len(image_list), \" betta images.\")\n",
    "        self.data = []\n",
    "        for image_name in image_list:\n",
    "            image_label = \"betta\"\n",
    "            image_path = self.images_dir + os.sep + image_name\n",
    "            self.data.append([image_path, image_label])\n",
    "        self.class_map = {\"betta\" : 0}\n",
    "        \n",
    "    def __len__(self):\n",
    "        return len(self.data)\n",
    "    \n",
    "    def __getitem__(self, idex):\n",
    "        image_path, class_name = self.data[idex]\n",
    "        image = cv2.imread(image_path)\n",
    "        class_id = self.class_map[class_name]\n",
    "        image_tensor = torch.from_numpy(image) / 255\n",
    "        image_tensor = image_tensor.permute(2, 0, 1)\n",
    "        return image_tensor, class_id"
   ]
  },
  {
   "cell_type": "code",
   "execution_count": 7,
   "id": "317a1560",
   "metadata": {},
   "outputs": [
    {
     "name": "stdout",
     "output_type": "stream",
     "text": [
      "Dataset contains  1356  betta images.\n"
     ]
    }
   ],
   "source": [
    "# Load the dataset\n",
    "dataset = BettaDataset()\n",
    "data_loader = DataLoader(dataset, batch_size=4, shuffle=True)"
   ]
  },
  {
   "cell_type": "code",
   "execution_count": 8,
   "id": "7cb4c4b0",
   "metadata": {},
   "outputs": [
    {
     "data": {
      "text/plain": [
       "(tensor([[[0.5098, 0.5294, 0.5451,  ..., 0.6392, 0.6196, 0.6078],\n",
       "          [0.5176, 0.5333, 0.5529,  ..., 0.6078, 0.6196, 0.6314],\n",
       "          [0.5216, 0.5373, 0.5490,  ..., 0.6078, 0.6235, 0.6275],\n",
       "          ...,\n",
       "          [0.3843, 0.3843, 0.4078,  ..., 0.4667, 0.4471, 0.4627],\n",
       "          [0.3608, 0.3569, 0.3686,  ..., 0.4314, 0.4275, 0.4588],\n",
       "          [0.3529, 0.3804, 0.3961,  ..., 0.4314, 0.4471, 0.4863]],\n",
       " \n",
       "         [[0.6510, 0.6471, 0.6431,  ..., 0.6706, 0.6471, 0.6353],\n",
       "          [0.6471, 0.6510, 0.6510,  ..., 0.6392, 0.6471, 0.6588],\n",
       "          [0.6431, 0.6471, 0.6549,  ..., 0.6392, 0.6471, 0.6549],\n",
       "          ...,\n",
       "          [0.6980, 0.7059, 0.7294,  ..., 0.5804, 0.5608, 0.5765],\n",
       "          [0.6902, 0.6902, 0.7098,  ..., 0.5569, 0.5412, 0.5725],\n",
       "          [0.6824, 0.7137, 0.7373,  ..., 0.5569, 0.5725, 0.6118]],\n",
       " \n",
       "         [[0.6824, 0.6667, 0.6510,  ..., 0.5529, 0.5176, 0.5059],\n",
       "          [0.6824, 0.6706, 0.6667,  ..., 0.5216, 0.5176, 0.5294],\n",
       "          [0.6784, 0.6745, 0.6706,  ..., 0.5216, 0.5255, 0.5255],\n",
       "          ...,\n",
       "          [0.6314, 0.6353, 0.6549,  ..., 0.4902, 0.4706, 0.4863],\n",
       "          [0.6196, 0.6118, 0.6314,  ..., 0.4627, 0.4510, 0.4824],\n",
       "          [0.6118, 0.6353, 0.6588,  ..., 0.4627, 0.4784, 0.5176]]]),\n",
       " 0)"
      ]
     },
     "execution_count": 8,
     "metadata": {},
     "output_type": "execute_result"
    }
   ],
   "source": [
    "dataset.__getitem__(5)"
   ]
  },
  {
   "cell_type": "code",
   "execution_count": null,
   "id": "21a94e21",
   "metadata": {},
   "outputs": [],
   "source": []
  }
 ],
 "metadata": {
  "kernelspec": {
   "display_name": "Python 3",
   "language": "python",
   "name": "python3"
  },
  "language_info": {
   "codemirror_mode": {
    "name": "ipython",
    "version": 3
   },
   "file_extension": ".py",
   "mimetype": "text/x-python",
   "name": "python",
   "nbconvert_exporter": "python",
   "pygments_lexer": "ipython3",
   "version": "3.8.8"
  }
 },
 "nbformat": 4,
 "nbformat_minor": 5
}
